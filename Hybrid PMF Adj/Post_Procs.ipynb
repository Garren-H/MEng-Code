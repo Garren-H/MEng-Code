{
 "cells": [
  {
   "cell_type": "code",
   "execution_count": 1,
   "metadata": {},
   "outputs": [
    {
     "name": "stderr",
     "output_type": "stream",
     "text": [
      "/tmp/ipykernel_47881/968372504.py:7: DeprecationWarning: \n",
      "Pyarrow will become a required dependency of pandas in the next major release of pandas (pandas 3.0),\n",
      "(to allow more performant data types, such as the Arrow string type, and better interoperability with other libraries)\n",
      "but was not found to be installed on your system.\n",
      "If this would cause problems for you,\n",
      "please provide us feedback at https://github.com/pandas-dev/pandas/issues/54466\n",
      "        \n",
      "  import pandas as pd\n"
     ]
    }
   ],
   "source": [
    "import numpy as np\n",
    "import os\n",
    "import matplotlib.pyplot as plt\n",
    "import matplotlib\n",
    "import json\n",
    "import sys\n",
    "import pandas as pd\n",
    "\n",
    "sys.path.insert(0,'/home/garren/HPC Files/Hybrid PMF Adj')\n",
    "\n",
    "from Post_procs import Post_process"
   ]
  },
  {
   "cell_type": "code",
   "execution_count": 2,
   "metadata": {},
   "outputs": [],
   "source": [
    "functional_groups = np.array(['all'])\n",
    "include_clusters = True\n",
    "include_zeros = True\n",
    "ARD = False\n",
    "inf_type = 'MAP'"
   ]
  },
  {
   "cell_type": "code",
   "execution_count": 3,
   "metadata": {},
   "outputs": [],
   "source": [
    "for c in [True, False]:\n",
    "    for z in[True, False]:\n",
    "        post_obj = Post_process(include_clusters=c,\n",
    "                                include_zeros=z,\n",
    "                                ARD=ARD,\n",
    "                                inf_type=inf_type,\n",
    "                                functional_groups=functional_groups)\n",
    "        \n",
    "        A = post_obj.get_tensors()\n",
    "\n",
    "        post_obj.plot_err_metrics(A=A)\n",
    "        post_obj.plot_predicted_vs_experimental(data_type='Testing', A=A)\n",
    "        post_obj.plot_predicted_vs_experimental(data_type='Training', A=A)\n",
    "        post_obj.plot_predicted_hist(data_type='Testing', A=A)\n",
    "        post_obj.plot_predicted_hist(data_type='Training', A=A)"
   ]
  },
  {
   "cell_type": "code",
   "execution_count": 4,
   "metadata": {},
   "outputs": [],
   "source": [
    "post_obj = Post_process(include_clusters=include_clusters,\n",
    "                        include_zeros=include_zeros,\n",
    "                        ARD=ARD,\n",
    "                        inf_type=inf_type,\n",
    "                        functional_groups=functional_groups)"
   ]
  },
  {
   "cell_type": "code",
   "execution_count": 5,
   "metadata": {},
   "outputs": [],
   "source": [
    "A = post_obj.get_tensors()"
   ]
  },
  {
   "cell_type": "code",
   "execution_count": 6,
   "metadata": {},
   "outputs": [],
   "source": [
    "post_obj.plot_functional_groups_MC_vs_UNIFAC(A=A)\n",
    "post_obj.plot_functional_groups_MC_vs_UNIFAC_T_dep(A=A)\n",
    "post_obj.plot_functional_groups_MC_colorbar(A=A)\n",
    "post_obj.plot_2D_plots(data_type='Testing',A=A)\n",
    "post_obj.plot_2D_plots(data_type='Training',A=A)\n",
    "post_obj.plot_functional_groups_Unknown(A=A)"
   ]
  },
  {
   "cell_type": "code",
   "execution_count": null,
   "metadata": {},
   "outputs": [],
   "source": []
  }
 ],
 "metadata": {
  "kernelspec": {
   "display_name": "cmdstan_condaforge",
   "language": "python",
   "name": "python3"
  },
  "language_info": {
   "codemirror_mode": {
    "name": "ipython",
    "version": 3
   },
   "file_extension": ".py",
   "mimetype": "text/x-python",
   "name": "python",
   "nbconvert_exporter": "python",
   "pygments_lexer": "ipython3",
   "version": "3.12.2"
  }
 },
 "nbformat": 4,
 "nbformat_minor": 2
}

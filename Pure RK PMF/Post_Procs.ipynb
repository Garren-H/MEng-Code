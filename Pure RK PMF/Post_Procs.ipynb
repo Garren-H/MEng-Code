{
 "cells": [
  {
   "cell_type": "code",
   "execution_count": 1,
   "metadata": {},
   "outputs": [],
   "source": [
    "import numpy as np\n",
    "import sys\n",
    "sys.path.insert(0, '/home/garren/HPC Files/Pure RK PMF')\n",
    "sys.path.insert(0, '/home/garren/HPC Files')\n",
    "\n",
    "from Post_procs import Post_process\n",
    "from All_code import subsets"
   ]
  },
  {
   "cell_type": "code",
   "execution_count": 7,
   "metadata": {},
   "outputs": [],
   "source": [
    "include_clusters = [False, True]\n",
    "include_zeros = [False, True]\n",
    "refT = [False, True]\n",
    "ARD = False\n",
    "functional_groups = np.array(['Alkane', 'Primary alcohol'])\n",
    "inf_type = 'MAP'"
   ]
  },
  {
   "cell_type": "code",
   "execution_count": 8,
   "metadata": {},
   "outputs": [],
   "source": [
    "for c in include_clusters:\n",
    "    for z in include_zeros:\n",
    "        for r in refT:\n",
    "            # Initialize post_processing object\n",
    "            post_obj = Post_process(include_clusters=c, \n",
    "                                    include_zeros=z, \n",
    "                                    refT=r, \n",
    "                                    ARD=ARD, \n",
    "                                    functional_groups=functional_groups, \n",
    "                                    inf_type=inf_type)\n",
    "            A = post_obj.get_tensors() # tensors of recontructed data\n",
    "            \n",
    "            post_obj.plot_err_metrics(A=A) # plot error metrics\n",
    "\n",
    "            post_obj.plot_predicted_vs_experimental(data_type='Training', A=A) # Plot the predicted vs Exp training data\n",
    "\n",
    "            post_obj.plot_predicted_vs_experimental(data_type='Testing', A=A) # Plot the predicted vs Exp testing data\n",
    "\n",
    "            post_obj.plot_predicted_hist(data_type='Testing', A=A) # Plot the histpgram of the absolute error Testing data\n",
    "\n",
    "            post_obj.plot_predicted_hist(data_type='Training', A=A) # Plot the histpgram of the absolute error Training data\n",
    "\n",
    "            #post_obj.plot_functional_groups_MC_vs_UNIFAC(A=A) # Plot the Error metrics of MC and UNIFAC compared to the exp Testing data. These are colrbars indicating where MC oupferforms UNIFAC\n",
    "\n",
    "            #post_obj.plot_functional_groups_MC_colorbar(A=A) # Plot the Error metrics of MC compared to the exp Testing data. These are colrbars indicate how far the MC predictions are compared to the experimental data\n",
    "\n",
    "            #post_obj.plot_2D_plots(data_type='Testing', A=A) # Plot 2D Testing data plots\n",
    "\n",
    "            #post_obj.plot_2D_plots(data_type='Training', A=A) # Plot 2D Training data plots"
   ]
  },
  {
   "cell_type": "code",
   "execution_count": 9,
   "metadata": {},
   "outputs": [],
   "source": [
    "post_obj = Post_process(include_clusters=True,\n",
    "                        include_zeros=True,\n",
    "                        refT=True,\n",
    "                        ARD=False,\n",
    "                        functional_groups=functional_groups,\n",
    "                        inf_type=inf_type)\n",
    "A = post_obj.get_tensors()\n",
    "post_obj.plot_functional_groups_MC_vs_UNIFAC(A=A)\n",
    "post_obj.plot_functional_groups_MC_vs_UNIFAC_T_dep(A=A)\n",
    "post_obj.plot_functional_groups_MC_colorbar(A=A)\n",
    "post_obj.plot_2D_plots(data_type='Testing', A=A)\n",
    "post_obj.plot_2D_plots(data_type='Training', A=A)\n",
    "post_obj.plot_functional_groups_Unknown(A=A)"
   ]
  },
  {
   "cell_type": "code",
   "execution_count": 10,
   "metadata": {},
   "outputs": [],
   "source": [
    "# Plots 2D Plots for rank 9\n",
    "post_obj.plot_2D_plots(data_type='Testing', A=A, ranks=np.array([5]), plot_one=True)\n",
    "post_obj.plot_2D_plots(data_type='Training', A=A, ranks=np.array([5]), plot_one=True)"
   ]
  },
  {
   "cell_type": "code",
   "execution_count": null,
   "metadata": {},
   "outputs": [],
   "source": []
  }
 ],
 "metadata": {
  "kernelspec": {
   "display_name": "cmdstan_condaforge",
   "language": "python",
   "name": "python3"
  },
  "language_info": {
   "codemirror_mode": {
    "name": "ipython",
    "version": 3
   },
   "file_extension": ".py",
   "mimetype": "text/x-python",
   "name": "python",
   "nbconvert_exporter": "python",
   "pygments_lexer": "ipython3",
   "version": "3.12.2"
  }
 },
 "nbformat": 4,
 "nbformat_minor": 2
}

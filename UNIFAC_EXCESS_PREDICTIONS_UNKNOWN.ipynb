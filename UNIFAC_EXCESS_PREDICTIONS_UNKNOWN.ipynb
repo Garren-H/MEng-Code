{
 "cells": [
  {
   "cell_type": "code",
   "execution_count": 1,
   "metadata": {},
   "outputs": [],
   "source": [
    "from thermo import ChemicalConstantsPackage\n",
    "from thermo.unifac import UNIFAC, DOUFSG, DOUFIP2016\n",
    "from chemicals import search_chemical\n",
    "import numpy as np\n",
    "import pandas as pd\n",
    "from IPython.display import clear_output\n",
    "import sys\n",
    "sys.path.insert(0,'/home/garren/HPC Files')\n",
    "from All_code import subsets"
   ]
  },
  {
   "cell_type": "code",
   "execution_count": 2,
   "metadata": {},
   "outputs": [],
   "source": [
    "subset_df, subset_Indices, subset_Indices_T, Info_Indices, init_indices, init_indices_T = subsets(np.array(['all'])).get_subset_df()"
   ]
  },
  {
   "cell_type": "code",
   "execution_count": 3,
   "metadata": {},
   "outputs": [],
   "source": [
    "c_all = Info_Indices['Component names']['IUPAC']\n",
    "c_all_idx = Info_Indices['Component names']['Index']"
   ]
  },
  {
   "cell_type": "code",
   "execution_count": 4,
   "metadata": {},
   "outputs": [],
   "source": [
    "Idx_known = np.column_stack([subset_df['Component 1 - Index'].to_numpy()[subset_Indices_T[:,0]], \n",
    "                             subset_df['Component 2 - Index'].to_numpy()[subset_Indices_T[:,1]]])\n",
    "\n",
    "del subset_df, subset_Indices, subset_Indices_T, Info_Indices, init_indices, init_indices_T"
   ]
  },
  {
   "cell_type": "code",
   "execution_count": 5,
   "metadata": {},
   "outputs": [],
   "source": [
    "N = len(c_all)\n",
    "# Get the excess enthalpy data\n",
    "testing_excel = '/home/garren/Documents/MEng/Code/Latest_results/HPC Files/TestingData_Final.xlsx'\n",
    "data_df = pd.read_excel(testing_excel)\n",
    "\n",
    "c1 = data_df['Component 1'].to_numpy().astype(str)\n",
    "c2 = data_df['Component 2'].to_numpy().astype(str)\n",
    "\n",
    "idx1 = np.sum(c1[:, np.newaxis] == c_all[np.newaxis,:], axis=1)\n",
    "idx2 = np.sum(c2[:, np.newaxis] == c_all[np.newaxis,:], axis=1)\n",
    "\n",
    "idx = (idx1 + idx2) == 2\n",
    "\n",
    "_, iidx = np.unique(np.char.add(np.char.add(c1[idx], ' + '), c2[idx]), return_index=True)\n",
    "iidx = np.sort(iidx)\n",
    "\n",
    "idx1 = np.sum((np.arange(N)[:, np.newaxis] * (c_all[:, np.newaxis]==c1[idx][iidx][np.newaxis,:])), axis=0)\n",
    "idx2 = np.sum((np.arange(N)[:, np.newaxis] * (c_all[:, np.newaxis]==c2[idx][iidx][np.newaxis,:])), axis=0)\n",
    "\n",
    "testing_indices = np.column_stack([idx1, idx2])\n",
    "\n",
    "del N, testing_excel, data_df, c1, c2, idx1, idx2, idx, iidx"
   ]
  },
  {
   "cell_type": "code",
   "execution_count": 17,
   "metadata": {},
   "outputs": [],
   "source": [
    "testing_indices = testing_indices[np.sum(np.char.add(np.char.add(testing_indices[:,0].astype(str), ' + '), testing_indices[:,1].astype(str))[:,np.newaxis] == np.char.add(np.char.add(Idx_known[:,0].astype(str), ' + '), Idx_known[:,1].astype(str))[np.newaxis,:], axis=1)==0,:]"
   ]
  },
  {
   "cell_type": "code",
   "execution_count": 21,
   "metadata": {},
   "outputs": [],
   "source": [
    "Idx_all = np.vstack([Idx_known, testing_indices])"
   ]
  },
  {
   "cell_type": "code",
   "execution_count": 30,
   "metadata": {},
   "outputs": [],
   "source": [
    "Idx_unknown = np.array([[i, j] for i in range(len(c_all)) for j in range(i+1, len(c_all))])\n",
    "idx_keep = np.sum(np.char.add(np.char.add(Idx_unknown[:,0].astype(str), ' + '), Idx_unknown[:,1].astype(str))[:,np.newaxis] == np.char.add(np.char.add(Idx_all[:,0].astype(str), ' + '), Idx_all[:,1].astype(str))[np.newaxis,:], axis=1) == 0\n",
    "Idx_unknown = Idx_unknown[idx_keep,:]\n",
    "del idx_keep"
   ]
  },
  {
   "cell_type": "code",
   "execution_count": 35,
   "metadata": {},
   "outputs": [],
   "source": [
    "c1_unknown = c_all[Idx_unknown[:,0]]\n",
    "c2_unknown = c_all[Idx_unknown[:,1]]\n",
    "x2_int = np.concatenate([np.append(np.linspace(0,0.45, 10)[1:], [0.495, 1-0.495]), np.linspace(0.55, 1, 10)[:-1]])\n",
    "T2_int = np.array([288.15, 298.15, 308.15])\n",
    "N_T = len(T2_int)\n",
    "N_C = len(x2_int)"
   ]
  },
  {
   "cell_type": "code",
   "execution_count": 48,
   "metadata": {},
   "outputs": [
    {
     "name": "stdout",
     "output_type": "stream",
     "text": [
      "Datapoint 3665 out of 3665\n"
     ]
    }
   ],
   "source": [
    "y = []\n",
    "for i in range(len(c1_unknown)):\n",
    "    print(f'Datapoint {i+1} out of {len(c1_unknown)}')\n",
    "    c1 = c1_unknown[i]\n",
    "    c2 = c2_unknown[i]\n",
    "    IUPAC_mix = [c1, c2]\n",
    "    constants,_ = ChemicalConstantsPackage.from_IDs(IUPAC_mix)\n",
    "    all_chem_mix = constants.UNIFAC_Dortmund_groups\n",
    "    for T in T2_int:\n",
    "        for x in x2_int:\n",
    "            xs = [x, 1-x]\n",
    "            GE = UNIFAC.from_subgroups(T=T, xs=xs, chemgroups=all_chem_mix, version=1, interaction_data=DOUFIP2016, subgroups=DOUFSG)\n",
    "            y += [GE.HE()]\n",
    "            clear_output(wait=True)\n",
    "\n",
    "c1_all = [[c1]*N_T*N_C for c1 in c1_unknown]\n",
    "c2_all = [[c2]*N_T*N_C for c2 in c2_unknown]\n",
    "T_all = [np.concatenate([T*np.ones_like(x2_int) for T in T2_int]) for _ in range(len(c1_unknown))]\n",
    "x_all = [np.concatenate([x2_int for _ in range(N_T)]) for _ in range(len(c1_unknown))]\n",
    "\n",
    "c1_all = np.concatenate(c1_all)\n",
    "c2_all = np.concatenate(c2_all)\n",
    "T_all = np.concatenate(T_all)\n",
    "x_all = np.concatenate(x_all)\n",
    "y = np.array(y)"
   ]
  },
  {
   "cell_type": "code",
   "execution_count": 53,
   "metadata": {},
   "outputs": [],
   "source": [
    "df = pd.DataFrame({'Component 1': c1_all,\n",
    "                   'Component 2': c2_all,\n",
    "                   'Temperature [K]': T_all,\n",
    "                   'Composition component 1 [mol/mol]': x_all,\n",
    "                   'UNIFAC_DMD [J/mol]': y})"
   ]
  },
  {
   "cell_type": "code",
   "execution_count": 55,
   "metadata": {},
   "outputs": [],
   "source": [
    "df.to_excel('/home/garren/HPC Files/Thermo_UNIFAC_DMD_unknown.xlsx', index=False, header=True)"
   ]
  }
 ],
 "metadata": {
  "kernelspec": {
   "display_name": "cmdstan_condaforge",
   "language": "python",
   "name": "python3"
  },
  "language_info": {
   "codemirror_mode": {
    "name": "ipython",
    "version": 3
   },
   "file_extension": ".py",
   "mimetype": "text/x-python",
   "name": "python",
   "nbconvert_exporter": "python",
   "pygments_lexer": "ipython3",
   "version": "3.11.9"
  }
 },
 "nbformat": 4,
 "nbformat_minor": 2
}

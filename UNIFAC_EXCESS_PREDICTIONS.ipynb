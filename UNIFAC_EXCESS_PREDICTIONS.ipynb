{
 "cells": [
  {
   "cell_type": "code",
   "execution_count": 1,
   "metadata": {},
   "outputs": [],
   "source": [
    "from thermo import ChemicalConstantsPackage\n",
    "from thermo.unifac import UNIFAC, DOUFSG, DOUFIP2016\n",
    "from chemicals import search_chemical\n",
    "import numpy as np\n",
    "import pandas as pd\n",
    "from IPython.display import clear_output"
   ]
  },
  {
   "cell_type": "code",
   "execution_count": 2,
   "metadata": {},
   "outputs": [],
   "source": [
    "with pd.ExcelFile('Sorted Data.xlsx') as f:\n",
    "    df = pd.read_excel(f, 'Data')"
   ]
  },
  {
   "cell_type": "code",
   "execution_count": 4,
   "metadata": {},
   "outputs": [
    {
     "name": "stdout",
     "output_type": "stream",
     "text": [
      "Datapoint 28214 out of 28214\n"
     ]
    }
   ],
   "source": [
    "y = []\n",
    "IUPAC_mix = []\n",
    "all_chem_mix = []\n",
    "for i in range(len(df)):\n",
    "    print(f'Datapoint {i+1} out of {len(df)}')\n",
    "    c1 = df['Component 1'][i]\n",
    "    c2 = df['Component 2'][i]\n",
    "    IUPAC_mix += [[c1, c2]]\n",
    "    constants,_ = ChemicalConstantsPackage.from_IDs(IUPAC_mix[i])\n",
    "    all_chem_mix += [constants.UNIFAC_Dortmund_groups]\n",
    "    x = df['Composition component 1 [mol/mol]'][i]\n",
    "    xs = [x, 1-x]\n",
    "    T = df['Temperature [K]'][i]\n",
    "    GE = UNIFAC.from_subgroups(T=T, xs=xs, chemgroups=all_chem_mix[i], version=1, interaction_data=DOUFIP2016, subgroups=DOUFSG)\n",
    "    y += [GE.HE()]\n",
    "    clear_output(wait=True)"
   ]
  },
  {
   "cell_type": "code",
   "execution_count": 8,
   "metadata": {},
   "outputs": [],
   "source": [
    "data = {'Component 1': np.array(IUPAC_mix)[:,0],\n",
    "        'Component 2': np.array(IUPAC_mix)[:,1],\n",
    "        'UNIFAC_DMD [J/mol]': y}\n",
    "data = pd.DataFrame(data)\n",
    "data.to_excel('Thermo_UNIFAC_DMD.xlsx', index=False, header=True, sheet_name='UNIFAC_DMD')"
   ]
  },
  {
   "cell_type": "code",
   "execution_count": 7,
   "metadata": {},
   "outputs": [
    {
     "data": {
      "text/plain": [
       "array([['Methanoic acid', 'Methanol'],\n",
       "       ['Methanoic acid', 'Methanol'],\n",
       "       ['Methanoic acid', 'Methanol'],\n",
       "       ...,\n",
       "       ['1-Decanol', 'tert-Butanol'],\n",
       "       ['1-Decanol', 'tert-Butanol'],\n",
       "       ['1-Decanol', 'tert-Butanol']], dtype='<U17')"
      ]
     },
     "execution_count": 7,
     "metadata": {},
     "output_type": "execute_result"
    }
   ],
   "source": [
    "np.array(IUPAC_mix)"
   ]
  }
 ],
 "metadata": {
  "kernelspec": {
   "display_name": "thermos_conda",
   "language": "python",
   "name": "python3"
  },
  "language_info": {
   "codemirror_mode": {
    "name": "ipython",
    "version": 3
   },
   "file_extension": ".py",
   "mimetype": "text/x-python",
   "name": "python",
   "nbconvert_exporter": "python",
   "pygments_lexer": "ipython3",
   "version": "3.11.9"
  }
 },
 "nbformat": 4,
 "nbformat_minor": 2
}

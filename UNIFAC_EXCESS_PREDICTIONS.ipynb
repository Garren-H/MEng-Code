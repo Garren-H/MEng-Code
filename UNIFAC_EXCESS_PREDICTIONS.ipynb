{
 "cells": [
  {
   "cell_type": "code",
   "execution_count": 1,
   "metadata": {},
   "outputs": [],
   "source": [
    "from thermo import ChemicalConstantsPackage\n",
    "from thermo.unifac import UNIFAC, DOUFSG, DOUFIP2016\n",
    "from chemicals import search_chemical\n",
    "import numpy as np\n",
    "import pandas as pd\n",
    "from IPython.display import clear_output\n",
    "from All_code import subsets"
   ]
  },
  {
   "cell_type": "code",
   "execution_count": null,
   "metadata": {},
   "outputs": [],
   "source": [
    "with pd.ExcelFile('Sorted Data.xlsx') as f:\n",
    "    df = pd.read_excel(f, 'Data')"
   ]
  },
  {
   "cell_type": "code",
   "execution_count": null,
   "metadata": {},
   "outputs": [],
   "source": [
    "y = []\n",
    "IUPAC_mix = []\n",
    "all_chem_mix = []\n",
    "for i in range(len(df)):\n",
    "    print(f'Datapoint {i+1} out of {len(df)}')\n",
    "    c1 = df['Component 1'][i]\n",
    "    c2 = df['Component 2'][i]\n",
    "    IUPAC_mix += [[c1, c2]]\n",
    "    constants,_ = ChemicalConstantsPackage.from_IDs(IUPAC_mix[i])\n",
    "    all_chem_mix += [constants.UNIFAC_Dortmund_groups]\n",
    "    x = df['Composition component 1 [mol/mol]'][i]\n",
    "    xs = [x, 1-x]\n",
    "    T = df['Temperature [K]'][i]\n",
    "    GE = UNIFAC.from_subgroups(T=T, xs=xs, chemgroups=all_chem_mix[i], version=1, interaction_data=DOUFIP2016, subgroups=DOUFSG)\n",
    "    y += [GE.HE()]\n",
    "    clear_output(wait=True)"
   ]
  },
  {
   "cell_type": "code",
   "execution_count": null,
   "metadata": {},
   "outputs": [],
   "source": [
    "data = {'Component 1': np.array(IUPAC_mix)[:,0],\n",
    "        'Component 2': np.array(IUPAC_mix)[:,1],\n",
    "        'UNIFAC_DMD [J/mol]': y}\n",
    "data = pd.DataFrame(data)\n",
    "data.to_excel('Thermo_UNIFAC_DMD.xlsx', index=False, header=True, sheet_name='UNIFAC_DMD')"
   ]
  },
  {
   "cell_type": "code",
   "execution_count": 2,
   "metadata": {},
   "outputs": [],
   "source": [
    "subset_df, subset_Indices, subset_Indices_T, Info_Indices, init_indices, init_indices_T = subsets(np.array(['all'])).get_subset_df()"
   ]
  },
  {
   "cell_type": "code",
   "execution_count": 3,
   "metadata": {},
   "outputs": [],
   "source": [
    "N = len(Info_Indices['Component names']['Index'])\n",
    "Idx_known = subset_df.iloc[subset_Indices_T[:,0],7:9].to_numpy()\n",
    "Idx_unknown = np.array([[i, j] for i in range(N) for j in range(i+1,N)])\n",
    "idx = np.sum(np.char.add(Idx_unknown[:,0].astype(str), Idx_unknown[:,1].astype(str))[:,np.newaxis] ==\n",
    "             np.char.add(Idx_known[:,0].astype(str), Idx_known[:,1].astype(str))[np.newaxis,:], axis=1) == 0\n",
    "Idx_unknown = Idx_unknown[idx,:]"
   ]
  },
  {
   "cell_type": "code",
   "execution_count": 4,
   "metadata": {},
   "outputs": [],
   "source": [
    "T2 = np.array([288.15, 298.15, 308.15])\n",
    "x2 = np.linspace(0,1, 21)[1:-1]"
   ]
  },
  {
   "cell_type": "code",
   "execution_count": 6,
   "metadata": {},
   "outputs": [
    {
     "name": "stdout",
     "output_type": "stream",
     "text": [
      "Datapoint 3875 out of 3875\n"
     ]
    }
   ],
   "source": [
    "dic = {'Component 1': [], 'Component 2': [],\n",
    "        'Composition component 1 [mol/mol]': [], 'Temperature [K]': [], \n",
    "        'UNIFAC_DMD [J/mol]': []}\n",
    "        \n",
    "for i in range(Idx_unknown.shape[0]):\n",
    "    print(f'Datapoint {i+1} out of {Idx_unknown.shape[0]}')\n",
    "    c1 = Info_Indices['Component names']['IUPAC'][Idx_unknown[i,0]]\n",
    "    c2 = Info_Indices['Component names']['IUPAC'][Idx_unknown[i,1]]\n",
    "    IUPAC_mix = [c1, c2]\n",
    "    constants,_ = ChemicalConstantsPackage.from_IDs(IUPAC_mix)\n",
    "    all_chem_mix = constants.UNIFAC_Dortmund_groups\n",
    "    for j in range(len(T2)):\n",
    "        for k in range(len(x2)):\n",
    "            dic['Composition component 1 [mol/mol]'] += [x2[k]]\n",
    "            dic['Temperature [K]'] += [T2[j]]\n",
    "            dic['Component 1'] += [c1]\n",
    "            dic['Component 2'] += [c2]\n",
    "            xs = [x2[k], 1-x2[k]]\n",
    "            GE = UNIFAC.from_subgroups(T=T2[j], xs=xs, chemgroups=all_chem_mix, version=1, interaction_data=DOUFIP2016, subgroups=DOUFSG)\n",
    "            dic['UNIFAC_DMD [J/mol]'] += [GE.HE()]\n",
    "    clear_output(wait=True)"
   ]
  },
  {
   "cell_type": "code",
   "execution_count": 17,
   "metadata": {},
   "outputs": [],
   "source": [
    "pd.DataFrame(dic).to_excel('Thermo_UNIFAC_DMD_unknown.xlsx', index=False, header=True, sheet_name='UNIFAC_DMD_unknown')"
   ]
  }
 ],
 "metadata": {
  "kernelspec": {
   "display_name": "thermos_conda",
   "language": "python",
   "name": "python3"
  },
  "language_info": {
   "codemirror_mode": {
    "name": "ipython",
    "version": 3
   },
   "file_extension": ".py",
   "mimetype": "text/x-python",
   "name": "python",
   "nbconvert_exporter": "python",
   "pygments_lexer": "ipython3",
   "version": "3.11.9"
  }
 },
 "nbformat": 4,
 "nbformat_minor": 2
}

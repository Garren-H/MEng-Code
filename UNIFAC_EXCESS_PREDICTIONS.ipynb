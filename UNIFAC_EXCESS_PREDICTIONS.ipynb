{
 "cells": [
  {
   "cell_type": "code",
   "execution_count": 3,
   "metadata": {},
   "outputs": [],
   "source": [
    "from thermo import ChemicalConstantsPackage\n",
    "from thermo.unifac import UNIFAC, DOUFSG, DOUFIP2016\n",
    "from chemicals import search_chemical\n",
    "import numpy as np\n",
    "import pandas as pd\n",
    "from IPython.display import clear_output\n",
    "import sys\n",
    "sys.path.insert(0,'/home/garren/HPC Files')\n",
    "from All_code import subsets"
   ]
  },
  {
   "cell_type": "code",
   "execution_count": 2,
   "metadata": {},
   "outputs": [],
   "source": [
    "with pd.ExcelFile('/home/garren/Documents/MEng/Code/Latest_results/HPC Files/TestingData_Final.xlsx') as f:\n",
    "    df = pd.read_excel(f)"
   ]
  },
  {
   "cell_type": "code",
   "execution_count": null,
   "metadata": {},
   "outputs": [],
   "source": [
    "y = []\n",
    "IUPAC_mix = []\n",
    "all_chem_mix = []\n",
    "for i in range(len(df)):\n",
    "    print(f'Datapoint {i+1} out of {len(df)}')\n",
    "    c1 = df['Component 1'][i]\n",
    "    c2 = df['Component 2'][i]\n",
    "    IUPAC_mix += [[c1, c2]]\n",
    "    constants,_ = ChemicalConstantsPackage.from_IDs(IUPAC_mix[i])\n",
    "    all_chem_mix += [constants.UNIFAC_Dortmund_groups]\n",
    "    x = df['Composition component 1 [mol/mol]'][i]\n",
    "    xs = [x, 1-x]\n",
    "    T = df['Temperature [K]'][i]\n",
    "    GE = UNIFAC.from_subgroups(T=T, xs=xs, chemgroups=all_chem_mix[i], version=1, interaction_data=DOUFIP2016, subgroups=DOUFSG)\n",
    "    y += [GE.HE()]\n",
    "    clear_output(wait=True)"
   ]
  },
  {
   "cell_type": "code",
   "execution_count": null,
   "metadata": {},
   "outputs": [],
   "source": [
    "data = {'Component 1': np.array(IUPAC_mix)[:,0],\n",
    "        'Component 2': np.array(IUPAC_mix)[:,1],\n",
    "        'UNIFAC_DMD [J/mol]': y}\n",
    "data = pd.DataFrame(data)\n",
    "data.to_excel('Thermo_UNIFAC_DMD.xlsx', index=False, header=True, sheet_name='UNIFAC_DMD')"
   ]
  },
  {
   "cell_type": "code",
   "execution_count": null,
   "metadata": {},
   "outputs": [],
   "source": [
    "copy_df = df.copy()\n",
    "copy_df['UNIFAC_DMD [J/mol]'] = y"
   ]
  },
  {
   "cell_type": "code",
   "execution_count": null,
   "metadata": {},
   "outputs": [],
   "source": [
    "copy_df.to_excel('/home/garren/Documents/MEng/Code/Latest_results/HPC Files/TestingData_Final.xlsx', index=False, header=True)"
   ]
  },
  {
   "cell_type": "code",
   "execution_count": null,
   "metadata": {},
   "outputs": [],
   "source": [
    "subset_df, subset_Indices, subset_Indices_T, Info_Indices, init_indices, init_indices_T = subsets(np.array(['all'])).get_subset_df()"
   ]
  },
  {
   "cell_type": "code",
   "execution_count": null,
   "metadata": {},
   "outputs": [],
   "source": [
    "N = len(Info_Indices['Component names']['Index'])\n",
    "Idx_known = subset_df.iloc[subset_Indices_T[:,0],7:9].to_numpy()\n",
    "Idx_unknown = np.array([[i, j] for i in range(N) for j in range(i+1,N)])\n",
    "idx = np.sum(np.char.add(Idx_unknown[:,0].astype(str), Idx_unknown[:,1].astype(str))[:,np.newaxis] ==\n",
    "             np.char.add(Idx_known[:,0].astype(str), Idx_known[:,1].astype(str))[np.newaxis,:], axis=1) == 0\n",
    "Idx_unknown = Idx_unknown[idx,:]"
   ]
  },
  {
   "cell_type": "code",
   "execution_count": null,
   "metadata": {},
   "outputs": [],
   "source": [
    "T2 = np.array([288.15, 298.15, 308.15])\n",
    "x2 = np.linspace(0,1, 21)[1:-1]"
   ]
  },
  {
   "cell_type": "code",
   "execution_count": null,
   "metadata": {},
   "outputs": [],
   "source": [
    "dic = {'Component 1': [], 'Component 2': [],\n",
    "        'Composition component 1 [mol/mol]': [], 'Temperature [K]': [], \n",
    "        'UNIFAC_DMD [J/mol]': []}\n",
    "        \n",
    "for i in range(Idx_unknown.shape[0]):\n",
    "    print(f'Datapoint {i+1} out of {Idx_unknown.shape[0]}')\n",
    "    c1 = Info_Indices['Component names']['IUPAC'][Idx_unknown[i,0]]\n",
    "    c2 = Info_Indices['Component names']['IUPAC'][Idx_unknown[i,1]]\n",
    "    IUPAC_mix = [c1, c2]\n",
    "    constants,_ = ChemicalConstantsPackage.from_IDs(IUPAC_mix)\n",
    "    all_chem_mix = constants.UNIFAC_Dortmund_groups\n",
    "    for j in range(len(T2)):\n",
    "        for k in range(len(x2)):\n",
    "            dic['Composition component 1 [mol/mol]'] += [x2[k]]\n",
    "            dic['Temperature [K]'] += [T2[j]]\n",
    "            dic['Component 1'] += [c1]\n",
    "            dic['Component 2'] += [c2]\n",
    "            xs = [x2[k], 1-x2[k]]\n",
    "            GE = UNIFAC.from_subgroups(T=T2[j], xs=xs, chemgroups=all_chem_mix, version=1, interaction_data=DOUFIP2016, subgroups=DOUFSG)\n",
    "            dic['UNIFAC_DMD [J/mol]'] += [GE.HE()]\n",
    "    clear_output(wait=True)"
   ]
  },
  {
   "cell_type": "code",
   "execution_count": null,
   "metadata": {},
   "outputs": [],
   "source": [
    "pd.DataFrame(dic).to_excel('Thermo_UNIFAC_DMD_unknown.xlsx', index=False, header=True, sheet_name='UNIFAC_DMD_unknown')"
   ]
  },
  {
   "cell_type": "code",
   "execution_count": null,
   "metadata": {},
   "outputs": [],
   "source": [
    "with pd.ExcelFile('/home/garren/Documents/MEng/Code/Latest_results/Alkane_Alcohol_Subset_of_Testing_Data_and_UNIFAC_obtained_from_Aspen.xlsx') as f:\n",
    "    df = pd.read_excel(f, sheet_name='TestingData')"
   ]
  },
  {
   "cell_type": "code",
   "execution_count": null,
   "metadata": {},
   "outputs": [],
   "source": [
    "y = []\n",
    "\n",
    "for i in range(len(df)):\n",
    "    print(f'Datapoint {i+1} out of {len(df)}')\n",
    "    c1 = df['Component 1'][i]\n",
    "    c2 = df['Component 2'][i]\n",
    "    IUPAC_mix = [c1, c2]\n",
    "    constants,_ = ChemicalConstantsPackage.from_IDs(IUPAC_mix)\n",
    "    all_chem_mix = constants.UNIFAC_Dortmund_groups\n",
    "    x = df['Composition component 1 [mol/mol]'][i]\n",
    "    xs = [x, 1-x]\n",
    "    T = df['Temperature [K]'][i]\n",
    "    GE = UNIFAC.from_subgroups(T=T, xs=xs, chemgroups=all_chem_mix, version=1, interaction_data=DOUFIP2016, subgroups=DOUFSG)\n",
    "    y += [GE.HE()]\n",
    "    clear_output(wait=True)\n"
   ]
  },
  {
   "cell_type": "code",
   "execution_count": null,
   "metadata": {},
   "outputs": [],
   "source": [
    "pd.DataFrame({'UNIFAC_DMD [J/mol]': y}).to_excel('/home/garren/Documents/MEng/Code/Latest_results/Thermo_UNIFAC_DMD_TestingData.xlsx', index=False, header=True, sheet_name='UNIFAC_DMD_TestingData')"
   ]
  },
  {
   "cell_type": "code",
   "execution_count": 7,
   "metadata": {},
   "outputs": [],
   "source": [
    "with pd.ExcelFile('/home/garren/Documents/MEng/Code/Latest_results/HPC Files/TestingData_Final.xlsx') as f:\n",
    "    df = pd.read_excel(f)"
   ]
  },
  {
   "cell_type": "code",
   "execution_count": 8,
   "metadata": {},
   "outputs": [
    {
     "name": "stdout",
     "output_type": "stream",
     "text": [
      "212 out of 212 mixtures evaluated\n"
     ]
    }
   ],
   "source": [
    "all_mix, idx = np.unique(np.char.add(np.char.add(df['Component 1'].to_numpy().astype(str), ' + '),\n",
    "                                df['Component 2'].to_numpy().astype(str)), return_index=True)\n",
    "all_mix = all_mix[np.argsort(idx)]\n",
    "idx = np.sort(idx)\n",
    "c1 = df['Component 1'].to_numpy()[idx].astype(str)\n",
    "c2 = df['Component 2'].to_numpy()[idx].astype(str)\n",
    "x_plot = np.linspace(0,1,101)\n",
    "\n",
    "testing_dic = {'Component 1': [],\n",
    "               'Component 2': [],\n",
    "               'Temperature [K]': [],\n",
    "               'Composition component 1 [mol/mol]': [],\n",
    "               'UNIFAC_DMD [J/mol]': []}\n",
    "for i in range(c1.shape[0]):\n",
    "    print(f'{i+1} out of {c1.shape[0]} mixtures evaluated')\n",
    "    IUPAC_mix = [c1[i], c2[i]]\n",
    "    constants,_ = ChemicalConstantsPackage.from_IDs(IUPAC_mix)\n",
    "    all_chem_mix = constants.UNIFAC_Dortmund_groups\n",
    "    \n",
    "    idx1 = df['Component 1'].to_numpy() == c1[i]\n",
    "    idx2 = df['Component 2'].to_numpy() == c2[i]\n",
    "    idx = (idx1.astype(int) + idx2.astype(int)) == 2\n",
    "\n",
    "    T_mix = df['Temperature [K]'].to_numpy()[idx]\n",
    "    T_mix_unique = np.unique(T_mix)\n",
    "    T_mix_unique = np.concatenate([T_mix_unique.astype(int)+0.15, T_mix_unique.astype(int)+1.15])\n",
    "    T_mix_unique = np.unique(T_mix_unique)\n",
    "    T_eval = T_mix_unique[np.sum(np.abs(T_mix_unique[:,np.newaxis]-T_mix[np.newaxis,:])<=0.5, axis=1) > 0]\n",
    "    for T in T_eval:\n",
    "        for x in x_plot:\n",
    "            xs = [x, 1-x]\n",
    "            GE = UNIFAC.from_subgroups(T=T, xs=xs, chemgroups=all_chem_mix, version=1, interaction_data=DOUFIP2016, subgroups=DOUFSG)\n",
    "            testing_dic['Component 1'] += [c1[i]]\n",
    "            testing_dic['Component 2'] += [c2[i]]\n",
    "            testing_dic['Temperature [K]'] += [T]\n",
    "            testing_dic['Composition component 1 [mol/mol]'] += [x]\n",
    "            testing_dic['UNIFAC_DMD [J/mol]'] += [GE.HE()]\n",
    "    clear_output(wait=True)"
   ]
  },
  {
   "cell_type": "code",
   "execution_count": 9,
   "metadata": {},
   "outputs": [],
   "source": [
    "with pd.ExcelFile('/home/garren/Documents/MEng/Code/Latest_results/HPC Files/Sorted Data.xlsx') as f:\n",
    "    df = pd.read_excel(f)\n",
    "    Indices_T = pd.read_excel(f, sheet_name='Indices_T')\n",
    "Indices_T = Indices_T.to_numpy()[:, :2]"
   ]
  },
  {
   "cell_type": "code",
   "execution_count": 10,
   "metadata": {},
   "outputs": [
    {
     "name": "stdout",
     "output_type": "stream",
     "text": [
      "781 out of 781 mixtures evaluated\n"
     ]
    }
   ],
   "source": [
    "all_mix, idx = np.unique(np.char.add(np.char.add(df['Component 1'].to_numpy()[Indices_T[:,0]].astype(str), ' + '),\n",
    "                                df['Component 2'].to_numpy()[Indices_T[:,0]].astype(str)), return_index=True)\n",
    "all_mix = all_mix[np.argsort(idx)]\n",
    "idx = np.sort(idx)\n",
    "c1 = df['Component 1'].to_numpy()[Indices_T[:,0]][idx].astype(str)\n",
    "c2 = df['Component 2'].to_numpy()[Indices_T[:,0]][idx].astype(str)\n",
    "x_plot = np.linspace(0,1,101)\n",
    "\n",
    "training_dic = {'Component 1': [],\n",
    "               'Component 2': [],\n",
    "               'Temperature [K]': [],\n",
    "               'Composition component 1 [mol/mol]': [],\n",
    "               'UNIFAC_DMD [J/mol]': []}\n",
    "for i in range(c1.shape[0]):\n",
    "    print(f'{i+1} out of {c1.shape[0]} mixtures evaluated')\n",
    "    IUPAC_mix = [c1[i], c2[i]]\n",
    "    constants,_ = ChemicalConstantsPackage.from_IDs(IUPAC_mix)\n",
    "    all_chem_mix = constants.UNIFAC_Dortmund_groups\n",
    "    \n",
    "    idx1 = df['Component 1'].to_numpy() == c1[i]\n",
    "    idx2 = df['Component 2'].to_numpy() == c2[i]\n",
    "    idx = (idx1.astype(int) + idx2.astype(int)) == 2\n",
    "\n",
    "    T_mix = df['Temperature [K]'].to_numpy()[idx]\n",
    "    T_mix_unique = np.unique(T_mix)\n",
    "    T_mix_unique = np.concatenate([T_mix_unique.astype(int)+0.15, T_mix_unique.astype(int)+1.15])\n",
    "    T_mix_unique = np.unique(T_mix_unique)\n",
    "    T_eval = T_mix_unique[np.sum(np.abs(T_mix_unique[:,np.newaxis]-T_mix[np.newaxis,:])<=0.5, axis=1) > 0]\n",
    "    for T in T_eval:\n",
    "        for x in x_plot:\n",
    "            xs = [x, 1-x]\n",
    "            GE = UNIFAC.from_subgroups(T=T, xs=xs, chemgroups=all_chem_mix, version=1, interaction_data=DOUFIP2016, subgroups=DOUFSG)\n",
    "            training_dic['Component 1'] += [c1[i]]\n",
    "            training_dic['Component 2'] += [c2[i]]\n",
    "            training_dic['Temperature [K]'] += [T]\n",
    "            training_dic['Composition component 1 [mol/mol]'] += [x]\n",
    "            training_dic['UNIFAC_DMD [J/mol]'] += [GE.HE()]\n",
    "    clear_output(wait=True)"
   ]
  },
  {
   "cell_type": "code",
   "execution_count": 11,
   "metadata": {},
   "outputs": [],
   "source": [
    "with pd.ExcelWriter('/home/garren/Documents/MEng/Code/Latest_results/HPC Files/UNIFAC_Plots.xlsx') as writer:\n",
    "    pd.DataFrame(training_dic).to_excel(writer, index=False, header=True, sheet_name='Training_Plots')\n",
    "    pd.DataFrame(testing_dic).to_excel(writer, index=False, header=True, sheet_name='Testing_Plots')"
   ]
  }
 ],
 "metadata": {
  "kernelspec": {
   "display_name": "thermos_conda",
   "language": "python",
   "name": "python3"
  },
  "language_info": {
   "codemirror_mode": {
    "name": "ipython",
    "version": 3
   },
   "file_extension": ".py",
   "mimetype": "text/x-python",
   "name": "python",
   "nbconvert_exporter": "python",
   "pygments_lexer": "ipython3",
   "version": "3.11.9"
  }
 },
 "nbformat": 4,
 "nbformat_minor": 2
}
